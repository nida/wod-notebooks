{
  "cells": [
    {
      "cell_type": "markdown",
      "id": "1f7146e3-a471-4f8e-a922-80e4b21d6541",
      "metadata": {},
      "source": [
        "{{ BRANDINGLOGO }}  ![Gologo](Pictures/Go.png)"
      ]
    },
    {
      "cell_type": "markdown",
      "id": "2273d6ef-8de2-4a0d-9ea9-6dd2b6942f71",
      "metadata": {},
      "source": [
        "# Lab 5: Go Testing\n",
        "\n",
        "Testing is a crucial part of software development that ensures your code works as expected. In Go, testing is built into the standard library with the `testing` package. This lab will cover:\n",
        "\n",
        "- Writing unit tests\n",
        "- Running tests and checking test coverage\n",
        "- Using table-driven tests\n",
        "- Mocking dependencies for tests\n",
        "- Best practices for Go tests\n",
        "\n",
        "## Prerequisites\n",
        "Before you start, ensure you have the following:\n",
        "- Go installed on your system (v1.18 or later)\n",
        "- Basic knowledge of Go functions and modules\n"
      ]
    },
    {
      "cell_type": "markdown",
      "id": "d83fce39-8b77-4b71-8edf-29e4d8513b9a",
      "metadata": {},
      "source": [
        "## Writing Unit Tests\n",
        "\n",
        "Unit tests are the simplest form of testing. They validate individual functions or methods to ensure they return the correct results. In Go, unit tests are written in files with the `_test.go` suffix, and the test functions follow the pattern `TestXxx(t *testing.T)`.\n",
        "\n",
        "### Example Code\n",
        "Let's start with a basic function that adds two numbers, and then write a test for it.\n"
      ]
    },
    {
      "cell_type": "code",
      "execution_count": null,
      "id": "c14da80e-7ac4-4c66-85d4-3e687523bff6",
      "metadata": {},
      "outputs": [],
      "source": [
        "// main.go\n",
        "package main\n",
        "\n",
        "// Add adds two integers and returns the result.\n",
        "func Add(a, b int) int {\n",
        "    return a + b\n",
        "}\n",
        "\n",
        "func main() {\n",
        "    // Call Add function here if necessary\n",
        "}"
      ]
    },
    {
      "cell_type": "code",
      "execution_count": null,
      "id": "ad9b423a-c692-45d7-95b2-12f42adde4e3",
      "metadata": {},
      "outputs": [],
      "source": [
        "// main_test.go\n",
        "package main\n",
        "\n",
        "import \"testing\"\n",
        "\n",
        "// TestAdd tests the Add function\n",
        "func TestAdd(t *testing.T) {\n",
        "    result := Add(2, 3)\n",
        "    expected := 5\n",
        "\n",
        "    if result != expected {\n",
        "        t.Errorf(\"Expected %d but got %d\", expected, result)\n",
        "    }\n",
        "}\n"
      ]
    },
    {
      "cell_type": "markdown",
      "id": "fece1ccf-c30e-48eb-bacb-cb0b63ba279f",
      "metadata": {},
      "source": [
        "### Running the Tests\n",
        "\n",
        "To run tests, use the `go test` command. This will automatically detect files ending with `_test.go` and run the test functions inside them.\n"
      ]
    },
    {
      "cell_type": "code",
      "execution_count": null,
      "id": "69d56beb-c813-4115-879a-7875fe1d8165",
      "metadata": {},
      "outputs": [],
      "source": [
        "$ go test\n",
        "\n",
        "// Expected output:\n",
        "// ok   \tmyproject\t0.003s"
      ]
    },
    {
      "cell_type": "markdown",
      "id": "017e6b50",
      "metadata": {},
      "source": [
        "## Table-Driven Tests\n",
        "\n",
        "Table-driven tests allow you to run multiple test cases in a single test function. It's a powerful way to reuse test logic for different inputs and expected outcomes.\n",
        "\n",
        "### Example Code\n",
        "Let's extend the `Add` function's test to handle multiple test cases using a table-driven approach."
      ]
    },
    {
      "cell_type": "code",
      "execution_count": null,
      "id": "a10979f3",
      "metadata": {},
      "outputs": [],
      "source": [
        "// main_test.go\n",
        "package main\n",
        "\n",
        "import \"testing\"\n",
        "\n",
        "func TestAdd(t *testing.T) {\n",
        "    tests := []struct {\n",
        "        a, b     int\n",
        "        expected int\n",
        "    }{\n",
        "        {2, 3, 5},\n",
        "        {-1, 1, 0},\n",
        "        {0, 0, 0},\n",
        "        {100, 200, 300},\n",
        "    }\n",
        "\n",
        "    for _, tt := range tests {\n",
        "        result := Add(tt.a, tt.b)\n",
        "        if result != tt.expected {\n",
        "            t.Errorf(\"Add(%d, %d) = %d; expected %d\", tt.a, tt.b, result, tt.expected)\n",
        "        }\n",
        "    }\n",
        "}\n"
      ]
    },
    {
      "cell_type": "markdown",
      "id": "cfa13aa3",
      "metadata": {},
      "source": [
        "### Running Tests with Coverage\n",
        "\n",
        "It's important to measure how much of your code is being tested. Go provides a `-cover` flag to measure test coverage.\n"
      ]
    },
    {
      "cell_type": "code",
      "execution_count": null,
      "id": "58e8a552",
      "metadata": {},
      "outputs": [],
      "source": [
        "$ go test -cover\n",
        "\n",
        "// Expected output:\n",
        "// ok   \tmyproject\t0.003s  coverage: 100.0% of statements"
      ]
    },
    {
      "cell_type": "markdown",
      "id": "543fd656",
      "metadata": {},
      "source": [
        "You can generate a detailed HTML report of the test coverage using the following command:\n"
      ]
    },
    {
      "cell_type": "code",
      "execution_count": null,
      "id": "aa2e023d",
      "metadata": {},
      "outputs": [],
      "source": [
        "$ go test -coverprofile=coverage.out\n",
        "$ go tool cover -html=coverage.out\n"
      ]
    },
    {
      "cell_type": "markdown",
      "id": "ec78cfa1",
      "metadata": {},
      "source": [
        "## Mocking Dependencies\n",
        "\n",
        "Sometimes your functions depend on external services (like databases or APIs), and you don't want to actually call those services during testing. Instead, you can use mocks to simulate those services.\n",
        "\n",
        "Go has many libraries for mocking, including [gomock](https://github.com/golang/mock). Let's create a mock for a simple example."
      ]
    },
    {
      "cell_type": "code",
      "execution_count": null,
      "id": "23d57f32",
      "metadata": {},
      "outputs": [],
      "source": [
        "// Suppose we have a simple interface that fetches data\n",
        "type DataFetcher interface {\n",
        "    FetchData() (string, error)\n",
        "}\n",
        "\n",
        "// Now, in our function, we depend on this interface\n",
        "func GetData(fetcher DataFetcher) (string, error) {\n",
        "    data, err := fetcher.FetchData()\n",
        "    if err != nil {\n",
        "        return \"\", err\n",
        "    }\n",
        "    return data, nil\n",
        "}"
      ]
    },
    {
      "cell_type": "markdown",
      "id": "bdd7f3e7",
      "metadata": {},
      "source": [
        "### Mock Implementation\n",
        "Using `gomock`, we can generate a mock implementation of the `DataFetcher` interface. This allows us to simulate different responses during tests."
      ]
    },
    {
      "cell_type": "code",
      "execution_count": null,
      "id": "a0e1f5b4",
      "metadata": {},
      "outputs": [],
      "source": [
        "// Mocking with gomock\n",
        "func TestGetData(t *testing.T) {\n",
        "    ctrl := gomock.NewController(t)\n",
        "    defer ctrl.Finish()\n",
        "\n",
        "    mockFetcher := NewMockDataFetcher(ctrl)\n",
        "    mockFetcher.EXPECT().FetchData().Return(\"mocked data\", nil)\n",
        "\n",
        "    result, err := GetData(mockFetcher)\n",
        "    if err != nil {\n",
        "        t.Fatalf(\"Expected no error, got %v\", err)\n",
        "    }\n",
        "    if result != \"mocked data\" {\n",
        "        t.Errorf(\"Expected 'mocked data', got %v\", result)\n",
        "    }\n",
        "}\n"
      ]
    },
    {
      "cell_type": "markdown",
      "id": "186b9e6a",
      "metadata": {},
      "source": [
        "## Best Practices\n",
        "\n",
        "- Write tests alongside your code. This ensures that your tests stay relevant.\n",
        "- Aim for high code coverage but focus on meaningful tests rather than just hitting coverage numbers.\n",
        "- Keep your tests isolated. Each test should run independently of others.\n",
        "- Use descriptive names for test functions to indicate what is being tested.\n"
      ]
    },
    {
      "cell_type": "markdown",
      "id": "37049bb2",
      "metadata": {},
      "source": [
        "<br><br>\n",
        "\n",
        "## <i class=\"fas fa-2x fa-map-marker-alt\" style=\"color:#BAE1FF;\"></i>&nbsp;&nbsp;Next Steps\n",
        "\n",
        "# Lab 6 : Interfaces\n",
        "\n",
        "<h2>Next LAB&nbsp;&nbsp;&nbsp;&nbsp;<a href=\"5-WKSHP-Go101-Testing.ipynb\" target=\"New\" title=\"Next LAB: Go Testing\"><i class=\"fas fa-chevron-circle-right\" style=\"color:#BAE1FF;\"></i></a></h2>\n",
        "\n",
        "</br>\n",
        " <a href=\"4-WKSHP-GO101-Dependency-Management\" target=\"New\" title=\"Dependency Management\"><button type=\"submit\"  class=\"btn btn-lg btn-block\" style=\"background-color:#BAE1FF;color:#fff;position:relative;width:10%; height: 30px;float: left;\"><i class=\"fas fa-chevron-circle-left\"></i>&nbsp;Back</button></a>\n",
        " <a href=\"6-WKSHP-GO101-Interfaces.ipynb\" target=\"New\" title=\"Next: GO Interfeces\"><button type=\"submit\" class=\"btn btn-lg btn-block\" style=\"background-color:#BAE1FF;color:#fff;position:relative;width:10%;height:30px; float:right\"><b>Next</b></button></a>"
      ]
    }
  ],
  "metadata": {
    "kernelspec": {
      "display_name": "Go",
      "language": "go",
      "name": "gophernotes"
    },
    "language_info": {
      "codemirror_mode": {},
      "file_extension": ".go",
      "mimetype": "",
      "name": "go",
      "nbconvert_exporter": "",
      "pygments_lexer": "",
      "version": "go1.20.4"
    }
  },
  "nbformat": 4,
  "nbformat_minor": 5
}
